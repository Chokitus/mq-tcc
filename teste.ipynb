{
 "cells": [
  {
   "cell_type": "code",
   "execution_count": 2,
   "source": [
    "import plotly.graph_objs as go\r\n",
    "import plotly.express as px\r\n",
    "import pandas as pd\r\n",
    "import numpy as np\r\n",
    "from plotly.subplots import make_subplots"
   ],
   "outputs": [],
   "metadata": {}
  },
  {
   "cell_type": "code",
   "execution_count": 3,
   "source": [
    "df = pd.read_csv(\"C:\\\\Users\\\\victo\\\\Documents\\\\TCC\\\\dev\\\\kotlin\\\\mq-base-api-kotlin\\\\untitled\\\\test_results\\\\receiver_latency.csv\", sep = ';')\r\n"
   ],
   "outputs": [],
   "metadata": {}
  },
  {
   "cell_type": "code",
   "execution_count": 48,
   "source": [
    "def addFigure(fig, idf, color, name, row = 1, col = 1):\r\n",
    "    fig.add_trace(\r\n",
    "        go.Scatter(\r\n",
    "            name=name,\r\n",
    "            x=pd.to_numeric(idf['normal_timestamp']),\r\n",
    "            y=pd.to_numeric(idf['avg_latency']),\r\n",
    "            mode='lines',\r\n",
    "            line=dict(color=color),\r\n",
    "        ),\r\n",
    "        row=row,\r\n",
    "        col=col\r\n",
    "    )\r\n",
    "    #fig.add_trace(\r\n",
    "    #    go.Scatter(\r\n",
    "    #        name=name,\r\n",
    "    #        x=pd.to_numeric(idf['normal_timestamp']),\r\n",
    "    #        y=pd.to_numeric(idf['avg_latency']) + pd.to_numeric(idf['latency_std']),\r\n",
    "    #        mode='lines',\r\n",
    "    #        line=dict(width=0),\r\n",
    "    #        fillcolor=color.replace('1)', '0.1)'),\r\n",
    "    #        fill='tonexty',\r\n",
    "    #        showlegend=False\r\n",
    "    #    ),\r\n",
    "    #    row=row,\r\n",
    "    #    col=col\r\n",
    "    #)\r\n",
    "    #fig.add_trace(\r\n",
    "    #    go.Scatter(\r\n",
    "    #        name=name,\r\n",
    "    #        x=pd.to_numeric(idf['normal_timestamp']),\r\n",
    "    #        y=pd.to_numeric(idf['avg_latency']) - pd.to_numeric(idf['latency_std']),\r\n",
    "    #        mode='lines',\r\n",
    "    #        line=dict(width=0),\r\n",
    "    #        fillcolor=color.replace('1)', '0.1)'),\r\n",
    "    #        fill='tonexty',\r\n",
    "    #        showlegend=False\r\n",
    "    #    ),\r\n",
    "    #    row=row,\r\n",
    "    #    col=col\r\n",
    "    #)\r\n"
   ],
   "outputs": [],
   "metadata": {}
  },
  {
   "cell_type": "markdown",
   "source": [
    "# Latência - Timeseries"
   ],
   "metadata": {}
  },
  {
   "cell_type": "code",
   "execution_count": 49,
   "source": [
    "columns = 'Timestamp;Cliente;producers;Consumidores;Tamanho da Mensagem;Tipo de Benchmark;Numero de Destinos;Latencia Maxima;Latencia Minima;Latencia Media;Desvio Padrao da Latencia;Fator de balanceamento;Quantidade Trafegada'\r\n",
    "\r\n",
    "bench = 'batch'\r\n",
    "d1 = df[df['destinations'] == 1]\r\n",
    "plot = d1[(d1['producers'] == 1) & (d1['benchmark'] == bench)]\r\n",
    "plot2 = d1[(d1['producers'] == 2) & (d1['benchmark'] == bench)]\r\n",
    "plot4 = d1[(d1['producers'] == 4) & (d1['benchmark'] == bench)]\r\n",
    "plot8 = d1[(d1['producers'] == 8) & (d1['benchmark'] == bench)]\r\n",
    "fig = make_subplots(rows=2, cols=1)\r\n",
    "\r\n",
    "addFigure(fig, plot, 'rgba(200, 50, 0, 1)', \"1, 1\")\r\n",
    "addFigure(fig, plot2, 'rgba(31, 200, 0, 1)', '2, 2')\r\n",
    "addFigure(fig, plot4, 'rgba(31, 50, 200, 1)', '4, 4')\r\n",
    "\r\n",
    "d2 = df[(df['destinations'] == 2) & (df['benchmark'] == bench)]\r\n",
    "d4 = df[(df['destinations'] == 4) & (df['benchmark'] == bench)]\r\n",
    "\r\n",
    "addFigure(fig, plot2, 'rgba(35, 164, 184, 1)', \"1\", 2)\r\n",
    "addFigure(fig, d2, 'rgba(119, 40, 247, 1)', '2', 2)\r\n",
    "addFigure(fig, d4, 'rgba(101, 168, 29, 1)', '4', 2)\r\n",
    "\r\n",
    "fig.update_xaxes(\r\n",
    "    matches='x'\r\n",
    ")\r\n",
    "fig.update_layout(\r\n",
    "    title={\r\n",
    "        'text': 'Latência para operações em massa',\r\n",
    "        'xanchor': 'center',\r\n",
    "        'yanchor': 'top',\r\n",
    "        'x':0.5,\r\n",
    "        'y':0.85,\r\n",
    "        'font': {\r\n",
    "            'family': 'JetBrains Mono'\r\n",
    "        }\r\n",
    "    },\r\n",
    "    xaxis={\r\n",
    "        'title': {\r\n",
    "            'text': 'Tempo de execução normalizado',\r\n",
    "            'font': {\r\n",
    "                'family': 'JetBrains Mono'\r\n",
    "            }\r\n",
    "        },\r\n",
    "        'anchor': 'free',\r\n",
    "    },\r\n",
    "    yaxis={\r\n",
    "        'title': {\r\n",
    "            'text': 'Latência média (ms)',\r\n",
    "            'font': {\r\n",
    "                'family': 'JetBrains Mono'\r\n",
    "            },\r\n",
    "        },\r\n",
    "        'anchor': 'free',\r\n",
    "    }\r\n",
    ")\r\n",
    "\r\n"
   ],
   "outputs": [
    {
     "output_type": "display_data",
     "data": {
      "application/vnd.plotly.v1+json": {
       "config": {
        "plotlyServerURL": "https://plot.ly"
       },
       "data": [
        {
         "line": {
          "color": "rgba(200, 50, 0, 1)"
         },
         "mode": "lines",
         "name": "1, 1",
         "type": "scatter",
         "x": [
          0,
          0.0625,
          0.125,
          0.1875,
          0.25,
          0.3125,
          0.375,
          0.4375,
          0.5,
          0.5625,
          0.625,
          0.6875,
          0.75,
          0.8125,
          0.875,
          0.9375,
          1
         ],
         "xaxis": "x",
         "y": [
          3.12,
          3,
          3.09,
          3.13,
          3.18,
          3.19,
          3.12,
          3.21,
          3.08,
          3.19,
          3.22,
          3.16,
          3.1,
          3.1,
          3.1,
          3.06,
          3.18
         ],
         "yaxis": "y"
        },
        {
         "line": {
          "color": "rgba(31, 200, 0, 1)"
         },
         "mode": "lines",
         "name": "2, 2",
         "type": "scatter",
         "x": [
          0,
          0.0333333333333333,
          0.0666666666666666,
          0.1,
          0.1333333333333333,
          0.1666666666666666,
          0.2,
          0.2333333333333333,
          0.2666666666666666,
          0.3,
          0.3333333333333333,
          0.3666666666666666,
          0.4,
          0.4333333333333333,
          0.4666666666666667,
          0.5,
          0.5333333333333333,
          0.5666666666666667,
          0.6,
          0.6333333333333333,
          0.6666666666666666,
          0.7,
          0.7333333333333333,
          0.7666666666666667,
          0.8,
          0.8333333333333334,
          0.8666666666666667,
          0.9,
          0.9333333333333332,
          0.9666666666666668,
          1
         ],
         "xaxis": "x",
         "y": [
          6.88,
          6.13,
          5.97,
          6.13,
          6.03,
          5.95,
          6.07,
          6.1,
          6.01,
          6.12,
          6.07,
          6.1,
          6.22,
          6.1,
          6.09,
          6.09,
          6.08,
          6.2,
          6.12,
          6.08,
          6.13,
          6.15,
          6.11,
          6.1,
          6.09,
          6.1,
          6.11,
          6.19,
          6.43,
          6.29,
          6
         ],
         "yaxis": "y"
        },
        {
         "line": {
          "color": "rgba(31, 50, 200, 1)"
         },
         "mode": "lines",
         "name": "4, 4",
         "type": "scatter",
         "x": [
          0,
          0.015625,
          0.03125,
          0.046875,
          0.0625,
          0.078125,
          0.09375,
          0.109375,
          0.125,
          0.140625,
          0.15625,
          0.171875,
          0.1875,
          0.203125,
          0.21875,
          0.234375,
          0.25,
          0.265625,
          0.28125,
          0.296875,
          0.3125,
          0.328125,
          0.34375,
          0.359375,
          0.375,
          0.390625,
          0.40625,
          0.421875,
          0.4375,
          0.453125,
          0.46875,
          0.484375,
          0.5,
          0.515625,
          0.53125,
          0.546875,
          0.5625,
          0.578125,
          0.59375,
          0.609375,
          0.625,
          0.640625,
          0.65625,
          0.671875,
          0.6875,
          0.703125,
          0.71875,
          0.734375,
          0.75,
          0.765625,
          0.78125,
          0.796875,
          0.8125,
          0.828125,
          0.84375,
          0.859375,
          0.875,
          0.890625,
          0.90625,
          0.921875,
          0.9375,
          0.953125,
          0.96875,
          0.984375,
          1
         ],
         "xaxis": "x",
         "y": [
          12.6,
          13.14,
          12.96,
          13.19,
          13.29,
          13.46,
          13.27,
          13.21,
          13.74,
          14.92,
          14.17,
          14.09,
          14.47,
          14.7,
          14.42,
          14.52,
          14.43,
          14.4,
          14.53,
          13.97,
          14.3,
          14.25,
          14.76,
          14.99,
          14.9,
          14.98,
          15.11,
          14.82,
          15.09,
          15.02,
          14.9,
          14.58,
          14.62,
          14.75,
          14.87,
          14.97,
          14.68,
          14.83,
          14.94,
          14.65,
          14.62,
          14.6,
          14.73,
          14.77,
          14.83,
          14.75,
          14.85,
          14.77,
          14.66,
          14.67,
          14.44,
          14.56,
          15.55,
          15.1,
          14.76,
          15.28,
          14.75,
          14.78,
          14.85,
          14.37,
          15.1,
          14.56,
          14.67,
          14.54,
          14.34
         ],
         "yaxis": "y"
        },
        {
         "line": {
          "color": "rgba(35, 164, 184, 1)"
         },
         "mode": "lines",
         "name": "1",
         "type": "scatter",
         "x": [
          0,
          0.0333333333333333,
          0.0666666666666666,
          0.1,
          0.1333333333333333,
          0.1666666666666666,
          0.2,
          0.2333333333333333,
          0.2666666666666666,
          0.3,
          0.3333333333333333,
          0.3666666666666666,
          0.4,
          0.4333333333333333,
          0.4666666666666667,
          0.5,
          0.5333333333333333,
          0.5666666666666667,
          0.6,
          0.6333333333333333,
          0.6666666666666666,
          0.7,
          0.7333333333333333,
          0.7666666666666667,
          0.8,
          0.8333333333333334,
          0.8666666666666667,
          0.9,
          0.9333333333333332,
          0.9666666666666668,
          1
         ],
         "xaxis": "x2",
         "y": [
          6.88,
          6.13,
          5.97,
          6.13,
          6.03,
          5.95,
          6.07,
          6.1,
          6.01,
          6.12,
          6.07,
          6.1,
          6.22,
          6.1,
          6.09,
          6.09,
          6.08,
          6.2,
          6.12,
          6.08,
          6.13,
          6.15,
          6.11,
          6.1,
          6.09,
          6.1,
          6.11,
          6.19,
          6.43,
          6.29,
          6
         ],
         "yaxis": "y2"
        },
        {
         "line": {
          "color": "rgba(119, 40, 247, 1)"
         },
         "mode": "lines",
         "name": "2",
         "type": "scatter",
         "x": [
          0,
          0.0263157894736842,
          0.0526315789473684,
          0.0789473684210526,
          0.1052631578947368,
          0.131578947368421,
          0.1578947368421052,
          0.1842105263157894,
          0.2105263157894736,
          0.2368421052631578,
          0.2631578947368421,
          0.2894736842105263,
          0.3157894736842105,
          0.3421052631578947,
          0.3684210526315789,
          0.3947368421052631,
          0.4210526315789473,
          0.4473684210526316,
          0.4736842105263157,
          0.5,
          0.5263157894736842,
          0.5526315789473685,
          0.5789473684210527,
          0.6052631578947368,
          0.631578947368421,
          0.6578947368421053,
          0.6842105263157895,
          0.7105263157894737,
          0.7368421052631579,
          0.7631578947368421,
          0.7894736842105263,
          0.8157894736842105,
          0.8421052631578947,
          0.868421052631579,
          0.8947368421052632,
          0.9210526315789472,
          0.9473684210526316,
          0.9736842105263158,
          1
         ],
         "xaxis": "x2",
         "y": [
          11.92,
          8.11,
          7.78,
          7.87,
          7.67,
          8.43,
          8.1,
          7.88,
          8.67,
          8.95,
          8.62,
          8.32,
          8.15,
          7.94,
          8.07,
          8.66,
          7.65,
          8.01,
          8.65,
          7.69,
          9.12,
          8.41,
          7.83,
          7.92,
          7.82,
          7.53,
          7.58,
          7.74,
          7.61,
          7.52,
          7.62,
          7.54,
          7.76,
          7.47,
          7.6,
          7.77,
          7.63,
          7.46,
          7.71
         ],
         "yaxis": "y2"
        },
        {
         "line": {
          "color": "rgba(101, 168, 29, 1)"
         },
         "mode": "lines",
         "name": "4",
         "type": "scatter",
         "x": [
          0,
          0.008130081300813,
          0.016260162601626,
          0.024390243902439,
          0.032520325203252,
          0.040650406504065,
          0.048780487804878,
          0.056910569105691,
          0.065040650406504,
          0.073170731707317,
          0.08130081300813,
          0.089430894308943,
          0.0975609756097561,
          0.1056910569105691,
          0.1138211382113821,
          0.1219512195121951,
          0.1300813008130081,
          0.1382113821138211,
          0.1463414634146341,
          0.1544715447154471,
          0.1626016260162601,
          0.1707317073170731,
          0.1788617886178861,
          0.1869918699186991,
          0.1951219512195122,
          0.2032520325203252,
          0.2113821138211382,
          0.2195121951219512,
          0.2276422764227642,
          0.2357723577235772,
          0.2439024390243902,
          0.2520325203252032,
          0.2601626016260163,
          0.2682926829268293,
          0.2764227642276423,
          0.2845528455284553,
          0.2926829268292683,
          0.3008130081300813,
          0.3089430894308943,
          0.3170731707317073,
          0.3252032520325203,
          0.3333333333333333,
          0.3414634146341463,
          0.3495934959349593,
          0.3577235772357723,
          0.3658536585365853,
          0.3739837398373983,
          0.3821138211382114,
          0.3902439024390244,
          0.3983739837398374,
          0.4065040650406504,
          0.4146341463414634,
          0.4227642276422764,
          0.4308943089430894,
          0.4390243902439024,
          0.4471544715447154,
          0.4552845528455284,
          0.4634146341463415,
          0.4715447154471545,
          0.4796747967479675,
          0.4878048780487805,
          0.4959349593495935,
          0.5040650406504065,
          0.5121951219512195,
          0.5203252032520326,
          0.5284552845528455,
          0.5365853658536586,
          0.5447154471544715,
          0.5528455284552846,
          0.5609756097560976,
          0.5691056910569106,
          0.5772357723577236,
          0.5853658536585366,
          0.5934959349593496,
          0.6016260162601627,
          0.6097560975609756,
          0.6178861788617886,
          0.6260162601626016,
          0.6341463414634146,
          0.6422764227642277,
          0.6504065040650406,
          0.6585365853658537,
          0.6666666666666666,
          0.6747967479674797,
          0.6829268292682927,
          0.6910569105691057,
          0.6991869918699187,
          0.7073170731707317,
          0.7154471544715447,
          0.7235772357723578,
          0.7317073170731707,
          0.7398373983739838,
          0.7479674796747967,
          0.7560975609756098,
          0.7642276422764228,
          0.7723577235772358,
          0.7804878048780488,
          0.7886178861788617,
          0.7967479674796748,
          0.8048780487804879,
          0.8130081300813008,
          0.8211382113821138,
          0.8292682926829268,
          0.8373983739837398,
          0.8455284552845529,
          0.8536585365853658,
          0.8617886178861789,
          0.8699186991869918,
          0.8780487804878049,
          0.8861788617886179,
          0.8943089430894309,
          0.902439024390244,
          0.9105691056910568,
          0.91869918699187,
          0.926829268292683,
          0.934959349593496,
          0.943089430894309,
          0.951219512195122,
          0.959349593495935,
          0.967479674796748,
          0.975609756097561,
          0.983739837398374,
          0.991869918699187,
          1
         ],
         "xaxis": "x2",
         "y": [
          28.41,
          28.41,
          27.06,
          29.96,
          29.19,
          26.69,
          26.27,
          23.82,
          30.58,
          28.07,
          30.71,
          30.14,
          28.27,
          28.63,
          25.78,
          27.13,
          26.44,
          25.77,
          29,
          28.43,
          23.1,
          22.54,
          21.57,
          27.87,
          25.33,
          23.24,
          27.03,
          30.86,
          23.98,
          25.61,
          29.44,
          25.72,
          22.22,
          28.13,
          25.26,
          24.66,
          25.29,
          25.56,
          23.39,
          26.61,
          26.05,
          22.85,
          24.01,
          25.89,
          25.23,
          27.41,
          26.44,
          29.03,
          26.44,
          27.24,
          25.43,
          23.69,
          24.51,
          24.94,
          23.88,
          23.27,
          21.34,
          22.56,
          27.3,
          23.31,
          29.26,
          25.22,
          26.57,
          28.83,
          25.3,
          25.74,
          23.51,
          24.27,
          23.15,
          24.71,
          23.58,
          26.49,
          25.95,
          26.3,
          25.52,
          25.59,
          24.63,
          27.74,
          24.38,
          22.36,
          22.41,
          26.01,
          27.39,
          25.72,
          33.23,
          59.84,
          53.68,
          59.32,
          58.09,
          65.21,
          58.72,
          54.68,
          55.03,
          61.91,
          54.63,
          53.83,
          62.99,
          65.81,
          66.8,
          66.78,
          65.64,
          52.81,
          56.9,
          64.26,
          62.03,
          58.1,
          54.34,
          47.35,
          38.84,
          63.76,
          60.29,
          66.24,
          44.26,
          55.3,
          41.91,
          52.79,
          54.85,
          64.75,
          62.67,
          45.5,
          60.29,
          58.9,
          61.58,
          30.36
         ],
         "yaxis": "y2"
        }
       ],
       "layout": {
        "template": {
         "data": {
          "bar": [
           {
            "error_x": {
             "color": "#2a3f5f"
            },
            "error_y": {
             "color": "#2a3f5f"
            },
            "marker": {
             "line": {
              "color": "#E5ECF6",
              "width": 0.5
             },
             "pattern": {
              "fillmode": "overlay",
              "size": 10,
              "solidity": 0.2
             }
            },
            "type": "bar"
           }
          ],
          "barpolar": [
           {
            "marker": {
             "line": {
              "color": "#E5ECF6",
              "width": 0.5
             },
             "pattern": {
              "fillmode": "overlay",
              "size": 10,
              "solidity": 0.2
             }
            },
            "type": "barpolar"
           }
          ],
          "carpet": [
           {
            "aaxis": {
             "endlinecolor": "#2a3f5f",
             "gridcolor": "white",
             "linecolor": "white",
             "minorgridcolor": "white",
             "startlinecolor": "#2a3f5f"
            },
            "baxis": {
             "endlinecolor": "#2a3f5f",
             "gridcolor": "white",
             "linecolor": "white",
             "minorgridcolor": "white",
             "startlinecolor": "#2a3f5f"
            },
            "type": "carpet"
           }
          ],
          "choropleth": [
           {
            "colorbar": {
             "outlinewidth": 0,
             "ticks": ""
            },
            "type": "choropleth"
           }
          ],
          "contour": [
           {
            "colorbar": {
             "outlinewidth": 0,
             "ticks": ""
            },
            "colorscale": [
             [
              0,
              "#0d0887"
             ],
             [
              0.1111111111111111,
              "#46039f"
             ],
             [
              0.2222222222222222,
              "#7201a8"
             ],
             [
              0.3333333333333333,
              "#9c179e"
             ],
             [
              0.4444444444444444,
              "#bd3786"
             ],
             [
              0.5555555555555556,
              "#d8576b"
             ],
             [
              0.6666666666666666,
              "#ed7953"
             ],
             [
              0.7777777777777778,
              "#fb9f3a"
             ],
             [
              0.8888888888888888,
              "#fdca26"
             ],
             [
              1,
              "#f0f921"
             ]
            ],
            "type": "contour"
           }
          ],
          "contourcarpet": [
           {
            "colorbar": {
             "outlinewidth": 0,
             "ticks": ""
            },
            "type": "contourcarpet"
           }
          ],
          "heatmap": [
           {
            "colorbar": {
             "outlinewidth": 0,
             "ticks": ""
            },
            "colorscale": [
             [
              0,
              "#0d0887"
             ],
             [
              0.1111111111111111,
              "#46039f"
             ],
             [
              0.2222222222222222,
              "#7201a8"
             ],
             [
              0.3333333333333333,
              "#9c179e"
             ],
             [
              0.4444444444444444,
              "#bd3786"
             ],
             [
              0.5555555555555556,
              "#d8576b"
             ],
             [
              0.6666666666666666,
              "#ed7953"
             ],
             [
              0.7777777777777778,
              "#fb9f3a"
             ],
             [
              0.8888888888888888,
              "#fdca26"
             ],
             [
              1,
              "#f0f921"
             ]
            ],
            "type": "heatmap"
           }
          ],
          "heatmapgl": [
           {
            "colorbar": {
             "outlinewidth": 0,
             "ticks": ""
            },
            "colorscale": [
             [
              0,
              "#0d0887"
             ],
             [
              0.1111111111111111,
              "#46039f"
             ],
             [
              0.2222222222222222,
              "#7201a8"
             ],
             [
              0.3333333333333333,
              "#9c179e"
             ],
             [
              0.4444444444444444,
              "#bd3786"
             ],
             [
              0.5555555555555556,
              "#d8576b"
             ],
             [
              0.6666666666666666,
              "#ed7953"
             ],
             [
              0.7777777777777778,
              "#fb9f3a"
             ],
             [
              0.8888888888888888,
              "#fdca26"
             ],
             [
              1,
              "#f0f921"
             ]
            ],
            "type": "heatmapgl"
           }
          ],
          "histogram": [
           {
            "marker": {
             "pattern": {
              "fillmode": "overlay",
              "size": 10,
              "solidity": 0.2
             }
            },
            "type": "histogram"
           }
          ],
          "histogram2d": [
           {
            "colorbar": {
             "outlinewidth": 0,
             "ticks": ""
            },
            "colorscale": [
             [
              0,
              "#0d0887"
             ],
             [
              0.1111111111111111,
              "#46039f"
             ],
             [
              0.2222222222222222,
              "#7201a8"
             ],
             [
              0.3333333333333333,
              "#9c179e"
             ],
             [
              0.4444444444444444,
              "#bd3786"
             ],
             [
              0.5555555555555556,
              "#d8576b"
             ],
             [
              0.6666666666666666,
              "#ed7953"
             ],
             [
              0.7777777777777778,
              "#fb9f3a"
             ],
             [
              0.8888888888888888,
              "#fdca26"
             ],
             [
              1,
              "#f0f921"
             ]
            ],
            "type": "histogram2d"
           }
          ],
          "histogram2dcontour": [
           {
            "colorbar": {
             "outlinewidth": 0,
             "ticks": ""
            },
            "colorscale": [
             [
              0,
              "#0d0887"
             ],
             [
              0.1111111111111111,
              "#46039f"
             ],
             [
              0.2222222222222222,
              "#7201a8"
             ],
             [
              0.3333333333333333,
              "#9c179e"
             ],
             [
              0.4444444444444444,
              "#bd3786"
             ],
             [
              0.5555555555555556,
              "#d8576b"
             ],
             [
              0.6666666666666666,
              "#ed7953"
             ],
             [
              0.7777777777777778,
              "#fb9f3a"
             ],
             [
              0.8888888888888888,
              "#fdca26"
             ],
             [
              1,
              "#f0f921"
             ]
            ],
            "type": "histogram2dcontour"
           }
          ],
          "mesh3d": [
           {
            "colorbar": {
             "outlinewidth": 0,
             "ticks": ""
            },
            "type": "mesh3d"
           }
          ],
          "parcoords": [
           {
            "line": {
             "colorbar": {
              "outlinewidth": 0,
              "ticks": ""
             }
            },
            "type": "parcoords"
           }
          ],
          "pie": [
           {
            "automargin": true,
            "type": "pie"
           }
          ],
          "scatter": [
           {
            "marker": {
             "colorbar": {
              "outlinewidth": 0,
              "ticks": ""
             }
            },
            "type": "scatter"
           }
          ],
          "scatter3d": [
           {
            "line": {
             "colorbar": {
              "outlinewidth": 0,
              "ticks": ""
             }
            },
            "marker": {
             "colorbar": {
              "outlinewidth": 0,
              "ticks": ""
             }
            },
            "type": "scatter3d"
           }
          ],
          "scattercarpet": [
           {
            "marker": {
             "colorbar": {
              "outlinewidth": 0,
              "ticks": ""
             }
            },
            "type": "scattercarpet"
           }
          ],
          "scattergeo": [
           {
            "marker": {
             "colorbar": {
              "outlinewidth": 0,
              "ticks": ""
             }
            },
            "type": "scattergeo"
           }
          ],
          "scattergl": [
           {
            "marker": {
             "colorbar": {
              "outlinewidth": 0,
              "ticks": ""
             }
            },
            "type": "scattergl"
           }
          ],
          "scattermapbox": [
           {
            "marker": {
             "colorbar": {
              "outlinewidth": 0,
              "ticks": ""
             }
            },
            "type": "scattermapbox"
           }
          ],
          "scatterpolar": [
           {
            "marker": {
             "colorbar": {
              "outlinewidth": 0,
              "ticks": ""
             }
            },
            "type": "scatterpolar"
           }
          ],
          "scatterpolargl": [
           {
            "marker": {
             "colorbar": {
              "outlinewidth": 0,
              "ticks": ""
             }
            },
            "type": "scatterpolargl"
           }
          ],
          "scatterternary": [
           {
            "marker": {
             "colorbar": {
              "outlinewidth": 0,
              "ticks": ""
             }
            },
            "type": "scatterternary"
           }
          ],
          "surface": [
           {
            "colorbar": {
             "outlinewidth": 0,
             "ticks": ""
            },
            "colorscale": [
             [
              0,
              "#0d0887"
             ],
             [
              0.1111111111111111,
              "#46039f"
             ],
             [
              0.2222222222222222,
              "#7201a8"
             ],
             [
              0.3333333333333333,
              "#9c179e"
             ],
             [
              0.4444444444444444,
              "#bd3786"
             ],
             [
              0.5555555555555556,
              "#d8576b"
             ],
             [
              0.6666666666666666,
              "#ed7953"
             ],
             [
              0.7777777777777778,
              "#fb9f3a"
             ],
             [
              0.8888888888888888,
              "#fdca26"
             ],
             [
              1,
              "#f0f921"
             ]
            ],
            "type": "surface"
           }
          ],
          "table": [
           {
            "cells": {
             "fill": {
              "color": "#EBF0F8"
             },
             "line": {
              "color": "white"
             }
            },
            "header": {
             "fill": {
              "color": "#C8D4E3"
             },
             "line": {
              "color": "white"
             }
            },
            "type": "table"
           }
          ]
         },
         "layout": {
          "annotationdefaults": {
           "arrowcolor": "#2a3f5f",
           "arrowhead": 0,
           "arrowwidth": 1
          },
          "autotypenumbers": "strict",
          "coloraxis": {
           "colorbar": {
            "outlinewidth": 0,
            "ticks": ""
           }
          },
          "colorscale": {
           "diverging": [
            [
             0,
             "#8e0152"
            ],
            [
             0.1,
             "#c51b7d"
            ],
            [
             0.2,
             "#de77ae"
            ],
            [
             0.3,
             "#f1b6da"
            ],
            [
             0.4,
             "#fde0ef"
            ],
            [
             0.5,
             "#f7f7f7"
            ],
            [
             0.6,
             "#e6f5d0"
            ],
            [
             0.7,
             "#b8e186"
            ],
            [
             0.8,
             "#7fbc41"
            ],
            [
             0.9,
             "#4d9221"
            ],
            [
             1,
             "#276419"
            ]
           ],
           "sequential": [
            [
             0,
             "#0d0887"
            ],
            [
             0.1111111111111111,
             "#46039f"
            ],
            [
             0.2222222222222222,
             "#7201a8"
            ],
            [
             0.3333333333333333,
             "#9c179e"
            ],
            [
             0.4444444444444444,
             "#bd3786"
            ],
            [
             0.5555555555555556,
             "#d8576b"
            ],
            [
             0.6666666666666666,
             "#ed7953"
            ],
            [
             0.7777777777777778,
             "#fb9f3a"
            ],
            [
             0.8888888888888888,
             "#fdca26"
            ],
            [
             1,
             "#f0f921"
            ]
           ],
           "sequentialminus": [
            [
             0,
             "#0d0887"
            ],
            [
             0.1111111111111111,
             "#46039f"
            ],
            [
             0.2222222222222222,
             "#7201a8"
            ],
            [
             0.3333333333333333,
             "#9c179e"
            ],
            [
             0.4444444444444444,
             "#bd3786"
            ],
            [
             0.5555555555555556,
             "#d8576b"
            ],
            [
             0.6666666666666666,
             "#ed7953"
            ],
            [
             0.7777777777777778,
             "#fb9f3a"
            ],
            [
             0.8888888888888888,
             "#fdca26"
            ],
            [
             1,
             "#f0f921"
            ]
           ]
          },
          "colorway": [
           "#636efa",
           "#EF553B",
           "#00cc96",
           "#ab63fa",
           "#FFA15A",
           "#19d3f3",
           "#FF6692",
           "#B6E880",
           "#FF97FF",
           "#FECB52"
          ],
          "font": {
           "color": "#2a3f5f"
          },
          "geo": {
           "bgcolor": "white",
           "lakecolor": "white",
           "landcolor": "#E5ECF6",
           "showlakes": true,
           "showland": true,
           "subunitcolor": "white"
          },
          "hoverlabel": {
           "align": "left"
          },
          "hovermode": "closest",
          "mapbox": {
           "style": "light"
          },
          "paper_bgcolor": "white",
          "plot_bgcolor": "#E5ECF6",
          "polar": {
           "angularaxis": {
            "gridcolor": "white",
            "linecolor": "white",
            "ticks": ""
           },
           "bgcolor": "#E5ECF6",
           "radialaxis": {
            "gridcolor": "white",
            "linecolor": "white",
            "ticks": ""
           }
          },
          "scene": {
           "xaxis": {
            "backgroundcolor": "#E5ECF6",
            "gridcolor": "white",
            "gridwidth": 2,
            "linecolor": "white",
            "showbackground": true,
            "ticks": "",
            "zerolinecolor": "white"
           },
           "yaxis": {
            "backgroundcolor": "#E5ECF6",
            "gridcolor": "white",
            "gridwidth": 2,
            "linecolor": "white",
            "showbackground": true,
            "ticks": "",
            "zerolinecolor": "white"
           },
           "zaxis": {
            "backgroundcolor": "#E5ECF6",
            "gridcolor": "white",
            "gridwidth": 2,
            "linecolor": "white",
            "showbackground": true,
            "ticks": "",
            "zerolinecolor": "white"
           }
          },
          "shapedefaults": {
           "line": {
            "color": "#2a3f5f"
           }
          },
          "ternary": {
           "aaxis": {
            "gridcolor": "white",
            "linecolor": "white",
            "ticks": ""
           },
           "baxis": {
            "gridcolor": "white",
            "linecolor": "white",
            "ticks": ""
           },
           "bgcolor": "#E5ECF6",
           "caxis": {
            "gridcolor": "white",
            "linecolor": "white",
            "ticks": ""
           }
          },
          "title": {
           "x": 0.05
          },
          "xaxis": {
           "automargin": true,
           "gridcolor": "white",
           "linecolor": "white",
           "ticks": "",
           "title": {
            "standoff": 15
           },
           "zerolinecolor": "white",
           "zerolinewidth": 2
          },
          "yaxis": {
           "automargin": true,
           "gridcolor": "white",
           "linecolor": "white",
           "ticks": "",
           "title": {
            "standoff": 15
           },
           "zerolinecolor": "white",
           "zerolinewidth": 2
          }
         }
        },
        "title": {
         "font": {
          "family": "JetBrains Mono"
         },
         "text": "Latência para operações em massa",
         "x": 0.5,
         "xanchor": "center",
         "y": 0.85,
         "yanchor": "top"
        },
        "xaxis": {
         "anchor": "free",
         "domain": [
          0,
          1
         ],
         "matches": "x",
         "title": {
          "font": {
           "family": "JetBrains Mono"
          },
          "text": "Tempo de execução normalizado"
         }
        },
        "xaxis2": {
         "anchor": "y2",
         "domain": [
          0,
          1
         ],
         "matches": "x"
        },
        "yaxis": {
         "anchor": "free",
         "domain": [
          0.575,
          1
         ],
         "title": {
          "font": {
           "family": "JetBrains Mono"
          },
          "text": "Latência média (ms)"
         }
        },
        "yaxis2": {
         "anchor": "x2",
         "domain": [
          0,
          0.425
         ]
        }
       }
      }
     },
     "metadata": {}
    }
   ],
   "metadata": {}
  },
  {
   "cell_type": "code",
   "execution_count": null,
   "source": [
    "bench = 'batch'\r\n",
    "d1 = df[df['destinations'] == 1]\r\n",
    "plot = d1[(d1['producers'] == 1) & (d1['benchmark'] == bench)]\r\n",
    "plot2 = d1[(d1['producers'] == 2) & (d1['benchmark'] == bench)]\r\n",
    "plot4 = d1[(d1['producers'] == 4) & (d1['benchmark'] == bench)]\r\n",
    "plot8 = d1[(d1['producers'] == 8) & (d1['benchmark'] == bench)]\r\n",
    "fig = make_subplots(rows=2, cols=1)\r\n",
    "\r\n",
    "addFigure(fig, plot, 'rgba(200, 50, 0, 1)', \"1, 1\")\r\n",
    "addFigure(fig, plot2, 'rgba(31, 200, 0, 1)', '2, 2')\r\n",
    "addFigure(fig, plot4, 'rgba(31, 50, 200, 1)', '4, 4')\r\n",
    "\r\n",
    "d2 = df[(df['destinations'] == 2) & (df['benchmark'] == bench)]\r\n",
    "d4 = df[(df['destinations'] == 4) & (df['benchmark'] == bench)]\r\n",
    "\r\n",
    "addFigure(fig, plot2, 'rgba(35, 164, 184, 1)', \"1\", 2)\r\n",
    "addFigure(fig, d2, 'rgba(119, 40, 247, 1)', '2', 2)\r\n",
    "addFigure(fig, d4, 'rgba(101, 168, 29, 1)', '4', 2)\r\n",
    "\r\n",
    "fig.update_xaxes(\r\n",
    "    matches='x'\r\n",
    ")\r\n",
    "fig.update_layout(\r\n",
    "    title={\r\n",
    "        'text': 'Latência para operações em massa',\r\n",
    "        'xanchor': 'center',\r\n",
    "        'yanchor': 'top',\r\n",
    "        'x':0.5,\r\n",
    "        'y':0.85,\r\n",
    "        'font': {\r\n",
    "            'family': 'JetBrains Mono'\r\n",
    "        }\r\n",
    "    },\r\n",
    "    xaxis={\r\n",
    "        'title': {\r\n",
    "            'text': 'Tempo de execução normalizado',\r\n",
    "            'font': {\r\n",
    "                'family': 'JetBrains Mono'\r\n",
    "            }\r\n",
    "        },\r\n",
    "        'anchor': 'free',\r\n",
    "    },\r\n",
    "    yaxis={\r\n",
    "        'title': {\r\n",
    "            'text': 'Latência média (ms)',\r\n",
    "            'font': {\r\n",
    "                'family': 'JetBrains Mono'\r\n",
    "            },\r\n",
    "        },\r\n",
    "        'anchor': 'free',\r\n",
    "    }\r\n",
    ")"
   ],
   "outputs": [],
   "metadata": {}
  },
  {
   "cell_type": "code",
   "execution_count": 30,
   "source": [
    "def addFigure2(fig, idf, color, name, row = 1, col = 1):\r\n",
    "    fig.add_trace(\r\n",
    "        go.Scatter(\r\n",
    "            name=name,\r\n",
    "            x=pd.to_numeric(idf['normal_timestamp']),\r\n",
    "            y=pd.to_numeric((idf['quantity'] * idf['message_size'])/1000000.0),\r\n",
    "            mode='lines',\r\n",
    "            line=dict(color=color)\r\n",
    "        ),\r\n",
    "        row=row,\r\n",
    "        col=col\r\n",
    "    )\r\n"
   ],
   "outputs": [],
   "metadata": {}
  },
  {
   "cell_type": "code",
   "execution_count": 40,
   "source": [
    "columns = 'Timestamp;Cliente;producers;Consumidores;Tamanho da Mensagem;Tipo de Benchmark;Numero de Destinos;Latencia Maxima;Latencia Minima;Latencia Media;Desvio Padrao da Latencia;Fator de balanceamento;Quantidade Trafegada'\r\n",
    "\r\n",
    "bench = 'batch'\r\n",
    "d1 = df[df['destinations'] == 1]\r\n",
    "plot = d1[(d1['producers'] == 1) & (d1['benchmark'] == bench)]\r\n",
    "plot2 = d1[(d1['producers'] == 2) & (d1['benchmark'] == bench)]\r\n",
    "plot4 = d1[(d1['producers'] == 4) & (d1['benchmark'] == bench)]\r\n",
    "plot8 = d1[(d1['producers'] == 8) & (d1['benchmark'] == bench)]\r\n",
    "\r\n",
    "fig = make_subplots(rows=2, cols=1)\r\n",
    "\r\n",
    "addFigure2(fig, plot, 'rgba(200, 50, 0, 1)', \"1, 1\")\r\n",
    "addFigure2(fig, plot2, 'rgba(31, 200, 0, 1)', '2, 2')\r\n",
    "addFigure2(fig, plot4, 'rgba(31, 50, 200, 1)', '4, 4')\r\n",
    "\r\n",
    "d2 = df[(df['destinations'] == 2) & (df['benchmark'] == bench)]\r\n",
    "d4 = df[(df['destinations'] == 4) & (df['benchmark'] == bench)]\r\n",
    "\r\n",
    "addFigure2(fig, plot2, 'rgb(35, 164, 184, 1)', \"1\", 2)\r\n",
    "addFigure2(fig, d2, 'rgb(119, 40, 247, 1)', '2', 2)\r\n",
    "addFigure2(fig, d4, 'rgb(101, 168, 29, 1)', '4', 2)\r\n",
    "\r\n",
    "fig.update_xaxes(\r\n",
    "    matches='x'\r\n",
    ")\r\n",
    "fig.update_layout(\r\n",
    "    title={\r\n",
    "        'text': 'Throughput de mensagens trafegadas para operações em Massa',\r\n",
    "        'xanchor': 'center',\r\n",
    "        'yanchor': 'top',\r\n",
    "        'x':0.5,\r\n",
    "        'y':0.85,\r\n",
    "        'font': {\r\n",
    "            'family': 'JetBrains Mono'\r\n",
    "        }\r\n",
    "    },\r\n",
    "    xaxis={\r\n",
    "        'title': {\r\n",
    "            'text': 'Tempo de execução normalizado',\r\n",
    "            'font': {\r\n",
    "                'family': 'JetBrains Mono'\r\n",
    "            }\r\n",
    "        },\r\n",
    "        'anchor': 'free',\r\n",
    "    },\r\n",
    "    yaxis={\r\n",
    "        'title': {\r\n",
    "            'text': 'Throughput (MB/s)',\r\n",
    "            'font': {\r\n",
    "                'family': 'JetBrains Mono'\r\n",
    "            },\r\n",
    "        },\r\n",
    "        'anchor': 'free',\r\n",
    "    }\r\n",
    ")"
   ],
   "outputs": [
    {
     "output_type": "error",
     "ename": "NameError",
     "evalue": "name 'addFigure2' is not defined",
     "traceback": [
      "\u001b[1;31m---------------------------------------------------------------------------\u001b[0m",
      "\u001b[1;31mNameError\u001b[0m                                 Traceback (most recent call last)",
      "\u001b[1;32m<ipython-input-40-fab7d2287606>\u001b[0m in \u001b[0;36m<module>\u001b[1;34m\u001b[0m\n\u001b[0;32m      9\u001b[0m \u001b[0mfig\u001b[0m \u001b[1;33m=\u001b[0m \u001b[0mmake_subplots\u001b[0m\u001b[1;33m(\u001b[0m\u001b[0mrows\u001b[0m\u001b[1;33m=\u001b[0m\u001b[1;36m2\u001b[0m\u001b[1;33m,\u001b[0m \u001b[0mcols\u001b[0m\u001b[1;33m=\u001b[0m\u001b[1;36m1\u001b[0m\u001b[1;33m)\u001b[0m\u001b[1;33m\u001b[0m\u001b[1;33m\u001b[0m\u001b[0m\n\u001b[0;32m     10\u001b[0m \u001b[1;33m\u001b[0m\u001b[0m\n\u001b[1;32m---> 11\u001b[1;33m \u001b[0maddFigure2\u001b[0m\u001b[1;33m(\u001b[0m\u001b[0mfig\u001b[0m\u001b[1;33m,\u001b[0m \u001b[0mplot\u001b[0m\u001b[1;33m,\u001b[0m \u001b[1;34m'rgba(200, 50, 0, 1)'\u001b[0m\u001b[1;33m,\u001b[0m \u001b[1;34m\"1, 1\"\u001b[0m\u001b[1;33m)\u001b[0m\u001b[1;33m\u001b[0m\u001b[1;33m\u001b[0m\u001b[0m\n\u001b[0m\u001b[0;32m     12\u001b[0m \u001b[0maddFigure2\u001b[0m\u001b[1;33m(\u001b[0m\u001b[0mfig\u001b[0m\u001b[1;33m,\u001b[0m \u001b[0mplot2\u001b[0m\u001b[1;33m,\u001b[0m \u001b[1;34m'rgba(31, 200, 0, 1)'\u001b[0m\u001b[1;33m,\u001b[0m \u001b[1;34m'2, 2'\u001b[0m\u001b[1;33m)\u001b[0m\u001b[1;33m\u001b[0m\u001b[1;33m\u001b[0m\u001b[0m\n\u001b[0;32m     13\u001b[0m \u001b[0maddFigure2\u001b[0m\u001b[1;33m(\u001b[0m\u001b[0mfig\u001b[0m\u001b[1;33m,\u001b[0m \u001b[0mplot4\u001b[0m\u001b[1;33m,\u001b[0m \u001b[1;34m'rgba(31, 50, 200, 1)'\u001b[0m\u001b[1;33m,\u001b[0m \u001b[1;34m'4, 4'\u001b[0m\u001b[1;33m)\u001b[0m\u001b[1;33m\u001b[0m\u001b[1;33m\u001b[0m\u001b[0m\n",
      "\u001b[1;31mNameError\u001b[0m: name 'addFigure2' is not defined"
     ]
    }
   ],
   "metadata": {}
  }
 ],
 "metadata": {
  "orig_nbformat": 4,
  "language_info": {
   "name": "python",
   "version": "3.9.5",
   "mimetype": "text/x-python",
   "codemirror_mode": {
    "name": "ipython",
    "version": 3
   },
   "pygments_lexer": "ipython3",
   "nbconvert_exporter": "python",
   "file_extension": ".py"
  },
  "kernelspec": {
   "name": "python3",
   "display_name": "Python 3.9.5 64-bit ('base': conda)"
  },
  "interpreter": {
   "hash": "3da15aef015e806f964a1ca18361b5e5f84c9649fe383094bd5ca40a000cfc99"
  }
 },
 "nbformat": 4,
 "nbformat_minor": 2
}